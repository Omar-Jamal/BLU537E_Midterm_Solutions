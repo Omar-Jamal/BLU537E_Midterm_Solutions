{
 "cells": [
  {
   "cell_type": "markdown",
   "metadata": {},
   "source": [
    "# Name: Omar Jamal, Student Number: 707201027"
   ]
  },
  {
   "cell_type": "markdown",
   "metadata": {},
   "source": [
    "## First Problem\n"
   ]
  },
  {
   "cell_type": "code",
   "execution_count": 81,
   "metadata": {},
   "outputs": [],
   "source": [
    "def problem1(csvfile):\n",
    "    import csv\n",
    "    #Opening csv file and changing the encoding from utf-8 to 'cp1252'\n",
    "    r = csv.reader(open(csvfile, encoding='cp1252')) \n",
    "    #listing all lines of the file\n",
    "    lines = list(r)\n",
    "    #Removing the first line(the line of Headers)\n",
    "    lines = lines[1:]\n",
    "    #Checking if the '\\xa0' value exist and changing it in place\n",
    "    for i in lines:\n",
    "        #searching in the 'Make' Column\n",
    "        for j in i[2:3]:\n",
    "            if j[0] == '\\xa0':\n",
    "                lines[lines.index(i)][2] = 'Mercedes-Benz '\n",
    "    \n",
    "    # Making a list of all the unique manufacturers in the dataset\n",
    "    unique = []\n",
    "    for i in lines:\n",
    "        #searching in the 'Make' Column\n",
    "        for j in i[2:3]:\n",
    "            if j not in unique:\n",
    "                unique.append(j)\n",
    "    \n",
    "    # Making a dictionary of all the manufacturers and their sales in 2010\n",
    "    manufacturers_sales = dict.fromkeys(unique, 0)\n",
    "    for j in lines:  \n",
    "        #searching in the 'Year' Column\n",
    "        if j[0] == '2010':\n",
    "            #Adding the value to each manufacturer (j[2] is 'Make' column, j[4] is 'Quantity' column)\n",
    "            manufacturers_sales[j[2]] += int(j[4])\n",
    "    \n",
    "    # Finding the highest sales of all the manufacturers in 2010\n",
    "    best_seller = ''\n",
    "    maximum = 0\n",
    "    for i in manufacturers_sales:\n",
    "        if manufacturers_sales[i] > maximum:\n",
    "            maximum = manufacturers_sales[i]\n",
    "            best_seller = i \n",
    "    \n",
    "    \n",
    "    print('The number of unique manufacturers in this dataset is:',len(unique))\n",
    "    print(best_seller, 'has the highest sales in 2010, which is', maximum)"
   ]
  },
  {
   "cell_type": "code",
   "execution_count": 82,
   "metadata": {},
   "outputs": [
    {
     "name": "stdout",
     "output_type": "stream",
     "text": [
      "The number of unique manufacturers in this dataset is: 22\n",
      "Volkswagen  has the highest sales in 2010, which is 16118\n"
     ]
    }
   ],
   "source": [
    "problem1('norway_new_car_sales_by_model.csv')"
   ]
  },
  {
   "cell_type": "code",
   "execution_count": null,
   "metadata": {},
   "outputs": [],
   "source": []
  },
  {
   "cell_type": "markdown",
   "metadata": {},
   "source": [
    "## Third Problem\n"
   ]
  },
  {
   "cell_type": "code",
   "execution_count": 42,
   "metadata": {},
   "outputs": [],
   "source": [
    "def problem3(folder_name):\n",
    "    import os\n",
    "    import time\n",
    "    \n",
    "    start = time.time()\n",
    "    path = '/home/omar/Downloads/123/midterm_data/' + folder_name + '/'\n",
    "    files = os.listdir(path)\n",
    "\n",
    "    counter =0 \n",
    "    for file in files:\n",
    "        with open(os.path.join(path, file)) as f:\n",
    "            lines = f.readlines()\n",
    "            lines = list(lines)\n",
    "\n",
    "            \n",
    "            os.rename(os.path.join(path, file), os.path.join(path, lines[0][15:-1]));\n",
    "            counter += 1\n",
    "    end = time.time()\n",
    "\n",
    "    print(\"The number of processed files:\", counter)\n",
    "    \n",
    "    estimtaed_time = ((end - start))/3600\n",
    "    print(\"The estimated time to process three million files: \",estimtaed_time*(3000000/38))"
   ]
  },
  {
   "cell_type": "code",
   "execution_count": 132,
   "metadata": {
    "scrolled": true
   },
   "outputs": [
    {
     "name": "stdout",
     "output_type": "stream",
     "text": [
      "The number of processed files: 38\n",
      "The estimated time to process three million files:  0.183754845669395\n"
     ]
    }
   ],
   "source": [
    "problem3('midterm_data/mol_files')"
   ]
  },
  {
   "cell_type": "code",
   "execution_count": null,
   "metadata": {},
   "outputs": [],
   "source": []
  },
  {
   "cell_type": "markdown",
   "metadata": {},
   "source": [
    "## Problem 4"
   ]
  },
  {
   "cell_type": "code",
   "execution_count": 69,
   "metadata": {},
   "outputs": [],
   "source": [
    "def problem4(file1, file2, file3, mergedfile):\n",
    "    import os\n",
    "\n",
    "    filenames = [file1, file2, file3 ] \n",
    "\n",
    "    with open(mergedfile, \"w\", encoding='latin-1') as outfile:\n",
    "\n",
    "        for filename in filenames:\n",
    "\n",
    "            with open(filename,'r',encoding='latin-1') as infile:\n",
    "                contents = infile.read()\n",
    "                outfile.write(contents)\n",
    "\n",
    "\n"
   ]
  },
  {
   "cell_type": "code",
   "execution_count": 70,
   "metadata": {},
   "outputs": [],
   "source": [
    "problem4('movies.dat', 'users.dat', 'ratings.dat' , 'merged.dat')"
   ]
  },
  {
   "cell_type": "code",
   "execution_count": null,
   "metadata": {},
   "outputs": [],
   "source": []
  },
  {
   "cell_type": "code",
   "execution_count": 53,
   "metadata": {},
   "outputs": [],
   "source": []
  },
  {
   "cell_type": "code",
   "execution_count": null,
   "metadata": {},
   "outputs": [],
   "source": []
  }
 ],
 "metadata": {
  "kernelspec": {
   "display_name": "Python 3",
   "language": "python",
   "name": "python3"
  },
  "language_info": {
   "codemirror_mode": {
    "name": "ipython",
    "version": 3
   },
   "file_extension": ".py",
   "mimetype": "text/x-python",
   "name": "python",
   "nbconvert_exporter": "python",
   "pygments_lexer": "ipython3",
   "version": "3.8.10"
  }
 },
 "nbformat": 4,
 "nbformat_minor": 4
}
